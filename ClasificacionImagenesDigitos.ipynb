{
 "cells": [
  {
   "cell_type": "markdown",
   "metadata": {},
   "source": [
    "## Integrantes:\n",
    "### Juan Esteban Quinayás\n",
    "### Julian Tauta"
   ]
  },
  {
   "cell_type": "markdown",
   "metadata": {},
   "source": [
    "+ sklear.datasets:\n",
    "    * bla\n",
    "+ pylab:\n",
    "    * bla"
   ]
  },
  {
   "cell_type": "code",
   "execution_count": 12,
   "metadata": {},
   "outputs": [],
   "source": [
    "from sklearn.datasets import load_digits\n",
    "import pylab as pl\n",
    "import pandas as pd\n",
    "import numpy as np"
   ]
  },
  {
   "cell_type": "code",
   "execution_count": 13,
   "metadata": {},
   "outputs": [],
   "source": [
    "# Se cargan los digitos\n",
    "digits = load_digits()"
   ]
  },
  {
   "cell_type": "code",
   "execution_count": 14,
   "metadata": {},
   "outputs": [
    {
     "name": "stdout",
     "output_type": "stream",
     "text": [
      "Se tienen en total: 1797 imágenes\n",
      "[[ 0.  0.  0.  8. 14. 14.  2.  0.]\n",
      " [ 0.  0.  0.  6. 10. 15. 11.  0.]\n",
      " [ 0.  0.  0.  0.  0. 14. 10.  0.]\n",
      " [ 0.  2.  8. 11. 12. 16.  8.  0.]\n",
      " [ 0.  8. 16. 16. 16. 16.  7.  0.]\n",
      " [ 0.  0.  0.  0. 11. 15.  1.  0.]\n",
      " [ 0.  0.  0.  9. 16.  7.  0.  0.]\n",
      " [ 0.  0.  0. 12. 13.  1.  0.  0.]]\n"
     ]
    },
    {
     "data": {
      "text/plain": [
       "<matplotlib.image.AxesImage at 0x15255718fd0>"
      ]
     },
     "execution_count": 14,
     "metadata": {},
     "output_type": "execute_result"
    },
    {
     "data": {
      "text/plain": [
       "<Figure size 432x288 with 0 Axes>"
      ]
     },
     "metadata": {},
     "output_type": "display_data"
    },
    {
     "data": {
      "image/png": "[encoded data removed]",
      "text/plain": [
       "<Figure size 288x288 with 1 Axes>"
      ]
     },
     "metadata": {
      "needs_background": "light"
     },
     "output_type": "display_data"
    }
   ],
   "source": [
    "pl.gray()\n",
    "numImagenes = len(digits.images)\n",
    "print(\"Se tienen en total:\", numImagenes, \"imágenes\")\n",
    "print(digits.images[27]) # de 0 a 16\n",
    "pl.matshow(digits.images[27])"
   ]
  },
  {
   "cell_type": "code",
   "execution_count": 15,
   "metadata": {},
   "outputs": [
    {
     "name": "stdout",
     "output_type": "stream",
     "text": [
      "Hay: 179 siete\n",
      "Hay: 180 nueve\n"
     ]
    }
   ],
   "source": [
    "numTarget = digits.target\n",
    "siete = 0\n",
    "nueve = 0\n",
    "for i in range(0,len(numTarget)):\n",
    "    if numTarget[i] == 7:\n",
    "        siete = siete + 1\n",
    "        #pl.matshow(digits.images[i])\n",
    "    if numTarget[i] == 9:\n",
    "        nueve = nueve + 1\n",
    "\n",
    "print(\"Hay:\", siete, \"siete\")\n",
    "print(\"Hay:\", nueve, \"nueve\")"
   ]
  },
  {
   "cell_type": "code",
   "execution_count": null,
   "metadata": {},
   "outputs": [],
   "source": []
  },
  {
   "cell_type": "code",
   "execution_count": null,
   "metadata": {},
   "outputs": [],
   "source": []
  },
  {
   "cell_type": "code",
   "execution_count": null,
   "metadata": {},
   "outputs": [],
   "source": []
  },
  {
   "cell_type": "code",
   "execution_count": null,
   "metadata": {},
   "outputs": [],
   "source": []
  },
  {
   "cell_type": "code",
   "execution_count": null,
   "metadata": {},
   "outputs": [],
   "source": []
  }
 ],
 "metadata": {
  "kernelspec": {
   "display_name": "Python 3",
   "language": "python",
   "name": "python3"
  },
  "language_info": {
   "codemirror_mode": {
    "name": "ipython",
    "version": 3
   },
   "file_extension": ".py",
   "mimetype": "text/x-python",
   "name": "python",
   "nbconvert_exporter": "python",
   "pygments_lexer": "ipython3",
   "version": "3.7.3"
  }
 },
 "nbformat": 4,
 "nbformat_minor": 2
}
